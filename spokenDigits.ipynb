{
 "cells": [
  {
   "cell_type": "markdown",
   "metadata": {},
   "source": [
    "# 10 Different Spoken Digits CNN"
   ]
  },
  {
   "cell_type": "markdown",
   "metadata": {},
   "source": [
    "Importing packages"
   ]
  },
  {
   "cell_type": "code",
   "execution_count": 1,
   "metadata": {},
   "outputs": [
    {
     "name": "stderr",
     "output_type": "stream",
     "text": [
      "Using TensorFlow backend.\n"
     ]
    }
   ],
   "source": [
    "import numpy as np\n",
    "import pandas as pd\n",
    "import librosa\n",
    "import os\n",
    "from tensorflow.keras.utils import to_categorical\n",
    "from tqdm import tqdm\n",
    "import matplotlib.pyplot as plt\n",
    "import librosa.display\n",
    "import keras\n",
    "from tensorflow.keras.models import Sequential\n",
    "from tensorflow.keras.layers import Dense, Dropout, Flatten, Conv2D, MaxPooling2D, BatchNormalization\n",
    "from sklearn.model_selection import train_test_split\n",
    "from tensorflow.keras.metrics import categorical_crossentropy\n",
    "from tensorflow.keras import optimizers"
   ]
  },
  {
   "cell_type": "markdown",
   "metadata": {},
   "source": [
    "Get import files"
   ]
  },
  {
   "cell_type": "code",
   "execution_count": 2,
   "metadata": {},
   "outputs": [
    {
     "name": "stdout",
     "output_type": "stream",
     "text": [
      "['dataset', 'dataset.rar', 'free-spoken-digit-dataset-master']\n"
     ]
    }
   ],
   "source": [
    "print(os.listdir(r\"spoken-digit-dataset\"))"
   ]
  },
  {
   "cell_type": "code",
   "execution_count": 3,
   "metadata": {},
   "outputs": [],
   "source": [
    "def wav2mfcc(file_path, augment = False, max_pad_len=11):\n",
    "    wave, sr = librosa.load(file_path, mono=True, sr=8000, duration = 1.024)\n",
    "    \n",
    "    if augment == True:\n",
    "        bins_per_octave = 12\n",
    "        pitch_pm = 4\n",
    "        pitch_change =  pitch_pm * 2*(np.random.uniform())   \n",
    "        wave = librosa.effects.pitch_shift(wave, \n",
    "                                          8000, n_steps=pitch_change, \n",
    "                                          bins_per_octave=bins_per_octave)\n",
    "        \n",
    "        speed_change = np.random.uniform(low=0.9,high=1.1)\n",
    "        wave = librosa.effects.time_stretch(wave, speed_change)\n",
    "        wave = wave[:8192]\n",
    "\n",
    "    duration = wave.shape[0]/sr\n",
    "    speed_change = 2.0* duration/1.024\n",
    "    wave = librosa.effects.time_stretch(wave, speed_change)\n",
    "    wave = wave[:4096]\n",
    "    \n",
    "    wave = librosa.util.normalize(wave)\n",
    "    mfcc = librosa.feature.mfcc(wave, sr=sr, n_mfcc=40, hop_length=int(0.048*sr), n_fft=int(0.096*sr))\n",
    "    mfcc -= (np.mean(mfcc, axis=0) + 1e-8)\n",
    "    #print(\"shape=\",mfcc.shape[1], wave.shape[0])\n",
    "    pad_width = max_pad_len - mfcc.shape[1]\n",
    "    mfcc = np.pad(mfcc, pad_width=((0, 0), (0, pad_width)), mode='constant')\n",
    "    #mfcc = mfcc[2:24,:]\n",
    "    return mfcc, duration, sr\n",
    "\n",
    "def get_data(dir = '', augment= False):\n",
    "    labels = []\n",
    "    mfccs = []\n",
    "    durations = []\n",
    "    sampling_rates = []\n",
    "    filenames = []\n",
    "\n",
    "    for f in tqdm(os.listdir(dir)):\n",
    "        if f.endswith('.wav'):\n",
    "            mfcc, duration, sr = wav2mfcc(dir + \"/\" + f, augment)\n",
    "            mfccs.append(mfcc)\n",
    "            durations.append(duration)\n",
    "            sampling_rates.append(sr)\n",
    "            # List of labels\n",
    "            # original naming convention number_name_version -- 0_jackson_0\n",
    "            #label = f.split('_')[0]\n",
    "            # new naming convention name_version_number -- loxwangc_0_0\n",
    "            label = f.split('_')[2][0]\n",
    "            labels.append(label)\n",
    "            filenames.append(dir + \"/\" + f)\n",
    "    return filenames, np.asarray(mfccs), np.asarray(durations), np.asarray(sampling_rates), to_categorical(labels), labels"
   ]
  },
  {
   "cell_type": "code",
   "execution_count": 4,
   "metadata": {},
   "outputs": [
    {
     "name": "stderr",
     "output_type": "stream",
     "text": [
      "100%|████████████████████████████████████████████████████████████████████████████████| 960/960 [01:11<00:00, 13.39it/s]\n"
     ]
    }
   ],
   "source": [
    "filenames, mfccs, durations, sampling_rates, labels, cls_true = get_data('spoken-digit-dataset/free-spoken-digit-dataset-master/recordings_mien')"
   ]
  },
  {
   "cell_type": "code",
   "execution_count": 5,
   "metadata": {},
   "outputs": [],
   "source": [
    "def plot_images(images, cls_true, cls_pred=None):\n",
    "    assert len(images) == len(cls_true) == 9\n",
    "    \n",
    "    # Create figure with 3x3 sub-plots.\n",
    "    fig, axes = plt.subplots(3, 3, figsize=(15,15))\n",
    "    fig.subplots_adjust(hspace=0.3, wspace=0.3)\n",
    "    \n",
    "    max = np.max(images)\n",
    "    min = np.min(images)\n",
    "\n",
    "    for i, ax in enumerate(axes.flat):\n",
    "        # Plot image.\n",
    "        #ax.imshow(images[i].reshape(img_shape), cmap='binary')\n",
    "        im = librosa.display.specshow(images[i], ax=ax, vmin=min, vmax=max)\n",
    "\n",
    "        # Show true and predicted classes.\n",
    "        if cls_pred is None:\n",
    "            xlabel = \"True: {0}\".format(cls_true[i])\n",
    "        else:\n",
    "            xlabel = \"True: {0}, Pred: {1}\".format(cls_true[i], cls_pred[i])\n",
    "\n",
    "        ax.set_xlabel(xlabel)\n",
    "    # Ensure the plot is shown correctly with multiple plots\n",
    "    # in a single Notebook cell.\n",
    "    plt.show()"
   ]
  },
  {
   "cell_type": "code",
   "execution_count": 6,
   "metadata": {},
   "outputs": [
    {
     "data": {
      "image/png": "[encoded data removed]",
      "text/plain": [
       "<Figure size 1080x1080 with 9 Axes>"
      ]
     },
     "metadata": {},
     "output_type": "display_data"
    }
   ],
   "source": [
    "plot_images(mfccs[50:59], cls_true[50:59])"
   ]
  },
  {
   "cell_type": "code",
   "execution_count": 7,
   "metadata": {},
   "outputs": [],
   "source": [
    "#from ann_visualizer.visualize import ann_viz\n",
    "\n",
    "def get_cnn_model(input_shape, num_classes):\n",
    "    model = Sequential()\n",
    "\n",
    "    model.add(Conv2D(32, kernel_size=(4, 4), activation='relu', input_shape=input_shape))\n",
    "    model.add(BatchNormalization())\n",
    "\n",
    "    model.add(Conv2D(48, kernel_size=(3, 3), activation='relu'))\n",
    "    model.add(BatchNormalization())\n",
    "\n",
    "    model.add(Conv2D(120, kernel_size=(3, 3), activation='relu'))\n",
    "    model.add(BatchNormalization())\n",
    "\n",
    "    model.add(MaxPooling2D(pool_size=(2, 2)))\n",
    "    model.add(Dropout(0.25))\n",
    "\n",
    "    model.add(Flatten())\n",
    "\n",
    "    model.add(Dense(128, activation='relu'))\n",
    "    model.add(BatchNormalization())\n",
    "    model.add(Dropout(0.25))\n",
    "    model.add(Dense(64, activation='relu'))\n",
    "    model.add(BatchNormalization())\n",
    "    model.add(Dropout(0.4))\n",
    "    model.add(Dense(num_classes, activation='softmax'))\n",
    "    model.compile(loss='categorical_crossentropy', optimizer=optimizers.Adam(), metrics=['accuracy'])\n",
    "\n",
    "    return model"
   ]
  },
  {
   "cell_type": "code",
   "execution_count": 8,
   "metadata": {},
   "outputs": [],
   "source": [
    "def get_all():\n",
    "    filenames, mfccs, durations, sampling_rates, labels, cls_true = get_data('spoken-digit-dataset/free-spoken-digit-dataset-master/recordings_mien', augment = False)\n",
    "    \n",
    "    filenames_a, mfccs_a, durations_a, sampling_rates_a, labels_a, cls_true_a = get_data('spoken-digit-dataset/free-spoken-digit-dataset-master/recordings_mien', augment = True)\n",
    "\n",
    "    mfccs = np.append(mfccs, mfccs_a, axis=0)\n",
    "    labels = np.append(labels, labels_a, axis =0)\n",
    "    \n",
    "    dim_1 = mfccs.shape[1]\n",
    "    dim_2 = mfccs.shape[2]\n",
    "    channels = 1\n",
    "    classes = 10\n",
    "    \n",
    "    print(\"sampling rate (max) = \", np.max(sampling_rates))\n",
    "    print(\"sampling rate (min) = \", np.min(sampling_rates))\n",
    "    print(\"duration (max) = \", np.max(durations))\n",
    "    print(\"duration (avg) = \", np.average(durations))\n",
    "    print(\"duration (min) = \", np.min(durations))\n",
    "    print(\"mffc matrix = \", mfccs.shape)\n",
    "\n",
    "    X = mfccs\n",
    "    X = X.reshape((mfccs.shape[0], dim_1, dim_2, channels))\n",
    "    y = labels\n",
    "\n",
    "    input_shape = (dim_1, dim_2, channels)\n",
    "\n",
    "    X_train, X_test, y_train, y_test = train_test_split(X, y, test_size=0.2, random_state=1)\n",
    "\n",
    "    model = get_cnn_model(input_shape, classes)\n",
    "\n",
    "    return X_train, X_test, y_train, y_test, model"
   ]
  },
  {
   "cell_type": "code",
   "execution_count": 9,
   "metadata": {},
   "outputs": [
    {
     "name": "stderr",
     "output_type": "stream",
     "text": [
      "100%|████████████████████████████████████████████████████████████████████████████████| 960/960 [00:58<00:00, 16.41it/s]\n",
      "100%|████████████████████████████████████████████████████████████████████████████████| 960/960 [01:35<00:00, 10.07it/s]\n"
     ]
    },
    {
     "name": "stdout",
     "output_type": "stream",
     "text": [
      "sampling rate (max) =  8000\n",
      "sampling rate (min) =  8000\n",
      "duration (max) =  1.024\n",
      "duration (avg) =  0.8887677083333336\n",
      "duration (min) =  0.18825\n",
      "mffc matrix =  (1920, 40, 11)\n",
      "Model: \"sequential\"\n",
      "_________________________________________________________________\n",
      "Layer (type)                 Output Shape              Param #   \n",
      "=================================================================\n",
      "conv2d (Conv2D)              (None, 37, 8, 32)         544       \n",
      "_________________________________________________________________\n",
      "batch_normalization (BatchNo (None, 37, 8, 32)         128       \n",
      "_________________________________________________________________\n",
      "conv2d_1 (Conv2D)            (None, 35, 6, 48)         13872     \n",
      "_________________________________________________________________\n",
      "batch_normalization_1 (Batch (None, 35, 6, 48)         192       \n",
      "_________________________________________________________________\n",
      "conv2d_2 (Conv2D)            (None, 33, 4, 120)        51960     \n",
      "_________________________________________________________________\n",
      "batch_normalization_2 (Batch (None, 33, 4, 120)        480       \n",
      "_________________________________________________________________\n",
      "max_pooling2d (MaxPooling2D) (None, 16, 2, 120)        0         \n",
      "_________________________________________________________________\n",
      "dropout (Dropout)            (None, 16, 2, 120)        0         \n",
      "_________________________________________________________________\n",
      "flatten (Flatten)            (None, 3840)              0         \n",
      "_________________________________________________________________\n",
      "dense (Dense)                (None, 128)               491648    \n",
      "_________________________________________________________________\n",
      "batch_normalization_3 (Batch (None, 128)               512       \n",
      "_________________________________________________________________\n",
      "dropout_1 (Dropout)          (None, 128)               0         \n",
      "_________________________________________________________________\n",
      "dense_1 (Dense)              (None, 64)                8256      \n",
      "_________________________________________________________________\n",
      "batch_normalization_4 (Batch (None, 64)                256       \n",
      "_________________________________________________________________\n",
      "dropout_2 (Dropout)          (None, 64)                0         \n",
      "_________________________________________________________________\n",
      "dense_2 (Dense)              (None, 10)                650       \n",
      "=================================================================\n",
      "Total params: 568,498\n",
      "Trainable params: 567,714\n",
      "Non-trainable params: 784\n",
      "_________________________________________________________________\n",
      "None\n",
      "Train on 1382 samples, validate on 154 samples\n",
      "Epoch 1/50\n",
      "1382/1382 [==============================] - 8s 5ms/sample - loss: 2.7696 - accuracy: 0.1664 - val_loss: 3.5114 - val_accuracy: 0.1169\n",
      "Epoch 2/50\n",
      "1382/1382 [==============================] - 3s 2ms/sample - loss: 1.9381 - accuracy: 0.3676 - val_loss: 2.4636 - val_accuracy: 0.1688\n",
      "Epoch 3/50\n",
      "1382/1382 [==============================] - 3s 2ms/sample - loss: 1.5955 - accuracy: 0.4732 - val_loss: 1.9228 - val_accuracy: 0.3182\n",
      "Epoch 4/50\n",
      "1382/1382 [==============================] - 3s 2ms/sample - loss: 1.2598 - accuracy: 0.5876 - val_loss: 1.5801 - val_accuracy: 0.4805\n",
      "Epoch 5/50\n",
      "1382/1382 [==============================] - 4s 3ms/sample - loss: 1.1294 - accuracy: 0.6100 - val_loss: 1.4680 - val_accuracy: 0.5390\n",
      "Epoch 6/50\n",
      "1382/1382 [==============================] - 7s 5ms/sample - loss: 0.9882 - accuracy: 0.6592 - val_loss: 1.4217 - val_accuracy: 0.5714\n",
      "Epoch 7/50\n",
      "1382/1382 [==============================] - 7s 5ms/sample - loss: 0.8610 - accuracy: 0.7178 - val_loss: 1.4063 - val_accuracy: 0.5390\n",
      "Epoch 8/50\n",
      "1382/1382 [==============================] - 7s 5ms/sample - loss: 0.7334 - accuracy: 0.7677 - val_loss: 1.3577 - val_accuracy: 0.5455\n",
      "Epoch 9/50\n",
      "1382/1382 [==============================] - 4s 3ms/sample - loss: 0.6053 - accuracy: 0.7967 - val_loss: 1.2699 - val_accuracy: 0.5909\n",
      "Epoch 10/50\n",
      "1382/1382 [==============================] - 3s 2ms/sample - loss: 0.5572 - accuracy: 0.8234 - val_loss: 1.2264 - val_accuracy: 0.5844\n",
      "Epoch 11/50\n",
      "1382/1382 [==============================] - 3s 2ms/sample - loss: 0.4979 - accuracy: 0.8509 - val_loss: 1.1495 - val_accuracy: 0.6558\n",
      "Epoch 12/50\n",
      "1382/1382 [==============================] - 3s 2ms/sample - loss: 0.4166 - accuracy: 0.8864 - val_loss: 1.1886 - val_accuracy: 0.6169\n",
      "Epoch 13/50\n",
      "1382/1382 [==============================] - 3s 2ms/sample - loss: 0.3841 - accuracy: 0.8958 - val_loss: 1.1104 - val_accuracy: 0.6169\n",
      "Epoch 14/50\n",
      "1382/1382 [==============================] - 3s 2ms/sample - loss: 0.3187 - accuracy: 0.9168 - val_loss: 1.0404 - val_accuracy: 0.6623\n",
      "Epoch 15/50\n",
      "1382/1382 [==============================] - 3s 2ms/sample - loss: 0.2725 - accuracy: 0.9298 - val_loss: 1.0781 - val_accuracy: 0.6558\n",
      "Epoch 16/50\n",
      "1382/1382 [==============================] - 3s 2ms/sample - loss: 0.2481 - accuracy: 0.9428 - val_loss: 1.0471 - val_accuracy: 0.6948\n",
      "Epoch 17/50\n",
      "1382/1382 [==============================] - 3s 2ms/sample - loss: 0.2122 - accuracy: 0.9508 - val_loss: 1.0642 - val_accuracy: 0.6883\n",
      "Epoch 18/50\n",
      "1382/1382 [==============================] - 7s 5ms/sample - loss: 0.1868 - accuracy: 0.9595 - val_loss: 1.0198 - val_accuracy: 0.6883\n",
      "Epoch 19/50\n",
      "1382/1382 [==============================] - 7s 5ms/sample - loss: 0.1615 - accuracy: 0.9631 - val_loss: 0.9831 - val_accuracy: 0.7013\n",
      "Epoch 20/50\n",
      "1382/1382 [==============================] - 7s 5ms/sample - loss: 0.1537 - accuracy: 0.9667 - val_loss: 1.0213 - val_accuracy: 0.6818\n",
      "Epoch 21/50\n",
      "1382/1382 [==============================] - 5s 3ms/sample - loss: 0.1393 - accuracy: 0.9638 - val_loss: 1.0010 - val_accuracy: 0.6883\n",
      "Epoch 22/50\n",
      "1382/1382 [==============================] - 3s 2ms/sample - loss: 0.1349 - accuracy: 0.9689 - val_loss: 1.0083 - val_accuracy: 0.6883\n",
      "Epoch 23/50\n",
      "1382/1382 [==============================] - 3s 2ms/sample - loss: 0.1066 - accuracy: 0.9805 - val_loss: 1.0681 - val_accuracy: 0.6948\n",
      "Epoch 24/50\n",
      "1382/1382 [==============================] - 3s 2ms/sample - loss: 0.1057 - accuracy: 0.9747 - val_loss: 1.0985 - val_accuracy: 0.6753\n",
      "Epoch 25/50\n",
      "1382/1382 [==============================] - 3s 2ms/sample - loss: 0.0855 - accuracy: 0.9841 - val_loss: 1.0312 - val_accuracy: 0.6688\n",
      "Epoch 26/50\n",
      "1382/1382 [==============================] - 3s 2ms/sample - loss: 0.1009 - accuracy: 0.9783 - val_loss: 1.1382 - val_accuracy: 0.7013\n",
      "Epoch 27/50\n",
      "1382/1382 [==============================] - 3s 2ms/sample - loss: 0.0852 - accuracy: 0.9848 - val_loss: 1.1399 - val_accuracy: 0.6948\n",
      "Epoch 28/50\n",
      "1382/1382 [==============================] - 3s 2ms/sample - loss: 0.0715 - accuracy: 0.9863 - val_loss: 1.0456 - val_accuracy: 0.6688\n",
      "Epoch 29/50\n",
      "1382/1382 [==============================] - 3s 2ms/sample - loss: 0.0746 - accuracy: 0.9834 - val_loss: 1.0344 - val_accuracy: 0.6818\n",
      "Epoch 30/50\n",
      "1382/1382 [==============================] - 5s 4ms/sample - loss: 0.0746 - accuracy: 0.9855 - val_loss: 1.0841 - val_accuracy: 0.6623\n",
      "Epoch 31/50\n",
      "1382/1382 [==============================] - 7s 5ms/sample - loss: 0.0721 - accuracy: 0.9834 - val_loss: 1.1374 - val_accuracy: 0.6818\n",
      "Epoch 32/50\n",
      "1382/1382 [==============================] - 7s 5ms/sample - loss: 0.0864 - accuracy: 0.9797 - val_loss: 1.1569 - val_accuracy: 0.7013\n",
      "Epoch 33/50\n",
      "1382/1382 [==============================] - 7s 5ms/sample - loss: 0.0669 - accuracy: 0.9848 - val_loss: 1.2599 - val_accuracy: 0.6623\n",
      "Epoch 34/50\n",
      "1382/1382 [==============================] - 3s 2ms/sample - loss: 0.0530 - accuracy: 0.9891 - val_loss: 1.0891 - val_accuracy: 0.6948\n",
      "Epoch 35/50\n",
      "1382/1382 [==============================] - 3s 2ms/sample - loss: 0.0510 - accuracy: 0.9913 - val_loss: 1.1238 - val_accuracy: 0.6688\n",
      "Epoch 36/50\n",
      "1382/1382 [==============================] - 3s 2ms/sample - loss: 0.0596 - accuracy: 0.9863 - val_loss: 1.1857 - val_accuracy: 0.6688\n",
      "Epoch 37/50\n",
      "1382/1382 [==============================] - 3s 2ms/sample - loss: 0.0568 - accuracy: 0.9834 - val_loss: 1.2515 - val_accuracy: 0.6494\n",
      "Epoch 38/50\n",
      "1382/1382 [==============================] - 3s 2ms/sample - loss: 0.0562 - accuracy: 0.9855 - val_loss: 1.1651 - val_accuracy: 0.7208\n",
      "Epoch 39/50\n",
      "1382/1382 [==============================] - 3s 2ms/sample - loss: 0.0479 - accuracy: 0.9913 - val_loss: 1.2635 - val_accuracy: 0.6623\n",
      "Epoch 40/50\n",
      "1382/1382 [==============================] - 3s 2ms/sample - loss: 0.0434 - accuracy: 0.9920 - val_loss: 1.2764 - val_accuracy: 0.6753\n",
      "Epoch 41/50\n",
      "1382/1382 [==============================] - 3s 2ms/sample - loss: 0.0498 - accuracy: 0.9884 - val_loss: 1.3195 - val_accuracy: 0.6623\n",
      "Epoch 42/50\n",
      "1382/1382 [==============================] - 3s 2ms/sample - loss: 0.0510 - accuracy: 0.9826 - val_loss: 1.2715 - val_accuracy: 0.6948\n",
      "Epoch 43/50\n",
      "1382/1382 [==============================] - 6s 4ms/sample - loss: 0.0491 - accuracy: 0.9899 - val_loss: 1.1694 - val_accuracy: 0.6753\n",
      "Epoch 44/50\n",
      "1382/1382 [==============================] - 7s 5ms/sample - loss: 0.0430 - accuracy: 0.9899 - val_loss: 1.2259 - val_accuracy: 0.6818\n",
      "Epoch 45/50\n",
      "1382/1382 [==============================] - 7s 5ms/sample - loss: 0.0330 - accuracy: 0.9935 - val_loss: 1.2023 - val_accuracy: 0.6753\n",
      "Epoch 46/50\n",
      "1382/1382 [==============================] - 6s 5ms/sample - loss: 0.0412 - accuracy: 0.9899 - val_loss: 1.4844 - val_accuracy: 0.6494\n",
      "Epoch 47/50\n",
      "1382/1382 [==============================] - 3s 2ms/sample - loss: 0.0497 - accuracy: 0.9884 - val_loss: 1.2875 - val_accuracy: 0.6688\n",
      "Epoch 48/50\n",
      "1382/1382 [==============================] - 3s 2ms/sample - loss: 0.0457 - accuracy: 0.9920 - val_loss: 1.2555 - val_accuracy: 0.6883\n",
      "Epoch 49/50\n",
      "1382/1382 [==============================] - 3s 2ms/sample - loss: 0.0402 - accuracy: 0.9928 - val_loss: 1.2795 - val_accuracy: 0.6753\n",
      "Epoch 50/50\n",
      "1382/1382 [==============================] - 3s 2ms/sample - loss: 0.0510 - accuracy: 0.9877 - val_loss: 1.2760 - val_accuracy: 0.6753\n"
     ]
    },
    {
     "data": {
      "text/plain": [
       "<tensorflow.python.keras.callbacks.History at 0x2b28cdb2898>"
      ]
     },
     "execution_count": 9,
     "metadata": {},
     "output_type": "execute_result"
    }
   ],
   "source": [
    "X_train, X_test, y_train, y_test, cnn_model = get_all()\n",
    "\n",
    "print(cnn_model.summary())\n",
    "\n",
    "cnn_model.fit(X_train, y_train, batch_size=64, epochs=50, verbose=1, validation_split=0.1)"
   ]
  },
  {
   "cell_type": "code",
   "execution_count": 10,
   "metadata": {},
   "outputs": [
    {
     "name": "stdout",
     "output_type": "stream",
     "text": [
      "Model: \"sequential\"\n",
      "_________________________________________________________________\n",
      "Layer (type)                 Output Shape              Param #   \n",
      "=================================================================\n",
      "conv2d (Conv2D)              (None, 37, 8, 32)         544       \n",
      "_________________________________________________________________\n",
      "batch_normalization (BatchNo (None, 37, 8, 32)         128       \n",
      "_________________________________________________________________\n",
      "conv2d_1 (Conv2D)            (None, 35, 6, 48)         13872     \n",
      "_________________________________________________________________\n",
      "batch_normalization_1 (Batch (None, 35, 6, 48)         192       \n",
      "_________________________________________________________________\n",
      "conv2d_2 (Conv2D)            (None, 33, 4, 120)        51960     \n",
      "_________________________________________________________________\n",
      "batch_normalization_2 (Batch (None, 33, 4, 120)        480       \n",
      "_________________________________________________________________\n",
      "max_pooling2d (MaxPooling2D) (None, 16, 2, 120)        0         \n",
      "_________________________________________________________________\n",
      "dropout (Dropout)            (None, 16, 2, 120)        0         \n",
      "_________________________________________________________________\n",
      "flatten (Flatten)            (None, 3840)              0         \n",
      "_________________________________________________________________\n",
      "dense (Dense)                (None, 128)               491648    \n",
      "_________________________________________________________________\n",
      "batch_normalization_3 (Batch (None, 128)               512       \n",
      "_________________________________________________________________\n",
      "dropout_1 (Dropout)          (None, 128)               0         \n",
      "_________________________________________________________________\n",
      "dense_1 (Dense)              (None, 64)                8256      \n",
      "_________________________________________________________________\n",
      "batch_normalization_4 (Batch (None, 64)                256       \n",
      "_________________________________________________________________\n",
      "dropout_2 (Dropout)          (None, 64)                0         \n",
      "_________________________________________________________________\n",
      "dense_2 (Dense)              (None, 10)                650       \n",
      "=================================================================\n",
      "Total params: 568,498\n",
      "Trainable params: 567,714\n",
      "Non-trainable params: 784\n",
      "_________________________________________________________________\n",
      "None\n"
     ]
    }
   ],
   "source": [
    "cnn_model.save(\"spoken-digit-dataset/free-spoken-digit-dataset-master/models/10spokenDigits_e50_sam960_acc9877_mien.h5\")\n",
    "\n",
    "from tensorflow.keras.models import load_model\n",
    "\n",
    "# Recreate the exact same model, including its weights and the optimizer\n",
    "#cnn_model = load_model('spoken-digit-dataset/free-spoken-digit-dataset-master/models/10spokenDigits_e50_acc1.000_sam310_mien.h5')\n",
    "\n",
    "print(cnn_model.summary())"
   ]
  },
  {
   "cell_type": "code",
   "execution_count": 11,
   "metadata": {},
   "outputs": [
    {
     "name": "stdout",
     "output_type": "stream",
     "text": [
      "(384,)\n",
      "(384, 10)\n"
     ]
    }
   ],
   "source": [
    "pred = cnn_model.predict_classes(X_test)\n",
    "print(pred.shape)\n",
    "print(y_test.shape)"
   ]
  },
  {
   "cell_type": "code",
   "execution_count": 12,
   "metadata": {},
   "outputs": [
    {
     "name": "stdout",
     "output_type": "stream",
     "text": [
      "192\n",
      "Percent correct :63.541666666666664%\n"
     ]
    }
   ],
   "source": [
    "perRight=0\n",
    "perWrong=0\n",
    "testSamples = int((len(pred))/2)\n",
    "\n",
    "for i in range(testSamples):\n",
    "    #print(pred[i])\n",
    "    result = np.where(y_test[i] == 1)\n",
    "    #print(result[0])\n",
    "\n",
    "    if pred[i] == result[0][0]:\n",
    "        match = \"Equal\"\n",
    "        perRight=perRight+1\n",
    "    else:\n",
    "        match = \"Wrong\"\n",
    "        perWrong=perWrong+1\n",
    "    \n",
    "    #print(\"Actual: {}, Predicted: {}\".format(result[0][0],pred[i]))\n",
    "    \n",
    "print(testSamples)\n",
    "percentage = perRight/testSamples*100\n",
    "print(\"Percent correct :{}%\".format(percentage))"
   ]
  },
  {
   "cell_type": "code",
   "execution_count": 13,
   "metadata": {},
   "outputs": [
    {
     "name": "stderr",
     "output_type": "stream",
     "text": [
      "100%|██████████████████████████████████████████████████████████████████████████████████| 10/10 [00:00<00:00, 34.42it/s]\n",
      "100%|██████████████████████████████████████████████████████████████████████████████████| 10/10 [00:00<00:00, 17.60it/s]\n"
     ]
    }
   ],
   "source": [
    "filenames, mfccs, durations, sampling_rates, labels, cls_true = get_data('spoken-digit-dataset/free-spoken-digit-dataset-master/test_recordings_mien')\n",
    "filenames_a, mfccs_a, durations_a, sampling_rates_a, labels_a, cls_true_a = get_data('spoken-digit-dataset/free-spoken-digit-dataset-master/test_recordings_mien', augment = True)"
   ]
  },
  {
   "cell_type": "code",
   "execution_count": 14,
   "metadata": {},
   "outputs": [
    {
     "name": "stdout",
     "output_type": "stream",
     "text": [
      "sampling rate (max) =  8000\n",
      "sampling rate (min) =  8000\n",
      "duration (max) =  0.7625\n",
      "duration (avg) =  0.5928875\n",
      "duration (min) =  0.295875\n",
      "mffc matrix =  (20, 40, 11)\n"
     ]
    }
   ],
   "source": [
    "mfccs = np.append(mfccs, mfccs_a, axis=0)\n",
    "labels = np.append(labels, labels_a, axis =0)\n",
    "\n",
    "dim_1 = mfccs.shape[1]\n",
    "dim_2 = mfccs.shape[2]\n",
    "channels = 1\n",
    "classes = 10\n",
    "\n",
    "print(\"sampling rate (max) = \", np.max(sampling_rates))\n",
    "print(\"sampling rate (min) = \", np.min(sampling_rates))\n",
    "print(\"duration (max) = \", np.max(durations))\n",
    "print(\"duration (avg) = \", np.average(durations))\n",
    "print(\"duration (min) = \", np.min(durations))\n",
    "print(\"mffc matrix = \", mfccs.shape)\n",
    "\n",
    "X = mfccs\n",
    "X = X.reshape((mfccs.shape[0], dim_1, dim_2, channels))\n",
    "y = labels"
   ]
  },
  {
   "cell_type": "code",
   "execution_count": 15,
   "metadata": {},
   "outputs": [
    {
     "name": "stdout",
     "output_type": "stream",
     "text": [
      "(20,)\n",
      "(20, 10)\n",
      "[0 7 2 3 4 5 6 7 8 9 1 1 6 3 4 5 6 9 8 3]\n",
      "[[1. 0. 0. 0. 0. 0. 0. 0. 0. 0.]\n",
      " [0. 1. 0. 0. 0. 0. 0. 0. 0. 0.]\n",
      " [0. 0. 1. 0. 0. 0. 0. 0. 0. 0.]\n",
      " [0. 0. 0. 1. 0. 0. 0. 0. 0. 0.]\n",
      " [0. 0. 0. 0. 1. 0. 0. 0. 0. 0.]\n",
      " [0. 0. 0. 0. 0. 1. 0. 0. 0. 0.]\n",
      " [0. 0. 0. 0. 0. 0. 1. 0. 0. 0.]\n",
      " [0. 0. 0. 0. 0. 0. 0. 1. 0. 0.]\n",
      " [0. 0. 0. 0. 0. 0. 0. 0. 1. 0.]\n",
      " [0. 0. 0. 0. 0. 0. 0. 0. 0. 1.]\n",
      " [1. 0. 0. 0. 0. 0. 0. 0. 0. 0.]\n",
      " [0. 1. 0. 0. 0. 0. 0. 0. 0. 0.]\n",
      " [0. 0. 1. 0. 0. 0. 0. 0. 0. 0.]\n",
      " [0. 0. 0. 1. 0. 0. 0. 0. 0. 0.]\n",
      " [0. 0. 0. 0. 1. 0. 0. 0. 0. 0.]\n",
      " [0. 0. 0. 0. 0. 1. 0. 0. 0. 0.]\n",
      " [0. 0. 0. 0. 0. 0. 1. 0. 0. 0.]\n",
      " [0. 0. 0. 0. 0. 0. 0. 1. 0. 0.]\n",
      " [0. 0. 0. 0. 0. 0. 0. 0. 1. 0.]\n",
      " [0. 0. 0. 0. 0. 0. 0. 0. 0. 1.]]\n"
     ]
    }
   ],
   "source": [
    "pred2 = cnn_model.predict_classes(X)\n",
    "print(pred2.shape)\n",
    "print(y.shape)\n",
    "\n",
    "print(pred2)\n",
    "print(y)"
   ]
  },
  {
   "cell_type": "code",
   "execution_count": 16,
   "metadata": {},
   "outputs": [
    {
     "name": "stdout",
     "output_type": "stream",
     "text": [
      "Actual: 0, Predicted: 0\n",
      "Actual: 1, Predicted: 7\n",
      "Actual: 2, Predicted: 2\n",
      "Actual: 3, Predicted: 3\n",
      "Actual: 4, Predicted: 4\n",
      "Actual: 5, Predicted: 5\n",
      "Actual: 6, Predicted: 6\n",
      "Actual: 7, Predicted: 7\n",
      "Actual: 8, Predicted: 8\n",
      "Actual: 9, Predicted: 9\n",
      "10\n",
      "Percent correct :90.0%\n"
     ]
    }
   ],
   "source": [
    "perRight=0\n",
    "perWrong=0\n",
    "testSamples = int((len(pred2))/2)\n",
    "\n",
    "for i in range(testSamples):\n",
    "    result = np.where(y[i] == 1)\n",
    "    \n",
    "    if pred2[i] == result[0][0]:\n",
    "        match = \"Equal\"\n",
    "        perRight=perRight+1\n",
    "    else:\n",
    "        match = \"Wrong\"\n",
    "        perWrong=perWrong+1\n",
    "    \n",
    "    \n",
    "    print(\"Actual: {}, Predicted: {}\".format(result[0][0],pred2[i]))\n",
    "\n",
    "print(testSamples)\n",
    "percentage = perRight/(testSamples)*100\n",
    "print(\"Percent correct :{}%\".format(percentage))"
   ]
  },
  {
   "cell_type": "code",
   "execution_count": 59,
   "metadata": {},
   "outputs": [],
   "source": [
    "from playsound import playsound\n",
    "\n",
    "playsound(filenames[6])"
   ]
  },
  {
   "cell_type": "code",
   "execution_count": 50,
   "metadata": {},
   "outputs": [
    {
     "name": "stdout",
     "output_type": "stream",
     "text": [
      "recording...\n",
      "recording written to file\n"
     ]
    }
   ],
   "source": [
    "import sounddevice\n",
    "from scipy.io.wavfile import write\n",
    "\n",
    "fs=44100\n",
    "second=2\n",
    "print(\"recording...\")\n",
    "record_voice=sounddevice.rec(int(second * fs),samplerate=fs,channels=2)\n",
    "sounddevice.wait()\n",
    "write(\"spoken-digit-dataset/free-spoken-digit-dataset-master/test_recordings_mien/output_14_0.wav\",fs,record_voice)\n",
    "print(\"recording written to file\")\n"
   ]
  },
  {
   "cell_type": "code",
   "execution_count": 23,
   "metadata": {},
   "outputs": [],
   "source": [
    "os.remove(\"spoken-digit-dataset/free-spoken-digit-dataset-master/test_recordings_mien/output_14_1.wav\")"
   ]
  },
  {
   "cell_type": "code",
   "execution_count": null,
   "metadata": {},
   "outputs": [],
   "source": []
  }
 ],
 "metadata": {
  "kernelspec": {
   "display_name": "Python 3",
   "language": "python",
   "name": "python3"
  },
  "language_info": {
   "codemirror_mode": {
    "name": "ipython",
    "version": 3
   },
   "file_extension": ".py",
   "mimetype": "text/x-python",
   "name": "python",
   "nbconvert_exporter": "python",
   "pygments_lexer": "ipython3",
   "version": "3.7.3"
  }
 },
 "nbformat": 4,
 "nbformat_minor": 4
}
